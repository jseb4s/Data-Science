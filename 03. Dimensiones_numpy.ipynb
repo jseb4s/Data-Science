{
 "cells": [
  {
   "cell_type": "code",
   "execution_count": 2,
   "metadata": {},
   "outputs": [],
   "source": [
    "import numpy as np"
   ]
  },
  {
   "cell_type": "code",
   "execution_count": 5,
   "metadata": {},
   "outputs": [
    {
     "name": "stdout",
     "output_type": "stream",
     "text": [
      "42\n"
     ]
    },
    {
     "data": {
      "text/plain": [
       "0"
      ]
     },
     "execution_count": 5,
     "metadata": {},
     "output_type": "execute_result"
    }
   ],
   "source": [
    "scalar = np.array(42)\n",
    "print(scalar)\n",
    "scalar.ndim\n",
    "\n",
    "#Un escalar es de dimensión 0."
   ]
  },
  {
   "cell_type": "code",
   "execution_count": 7,
   "metadata": {},
   "outputs": [
    {
     "name": "stdout",
     "output_type": "stream",
     "text": [
      "[0 1 2]\n"
     ]
    },
    {
     "data": {
      "text/plain": [
       "1"
      ]
     },
     "execution_count": 7,
     "metadata": {},
     "output_type": "execute_result"
    }
   ],
   "source": [
    "vector = np.array([0,1,2])\n",
    "print(vector)\n",
    "vector.ndim\n",
    "\n",
    "#Un vesctor es de dimensión 1."
   ]
  },
  {
   "cell_type": "code",
   "execution_count": 11,
   "metadata": {},
   "outputs": [
    {
     "name": "stdout",
     "output_type": "stream",
     "text": [
      "[[0 1 2]\n",
      " [4 5 6]]\n"
     ]
    },
    {
     "data": {
      "text/plain": [
       "2"
      ]
     },
     "execution_count": 11,
     "metadata": {},
     "output_type": "execute_result"
    }
   ],
   "source": [
    "matriz = np.array([[0,1,2], [4,5,6]])\n",
    "print(matriz)\n",
    "matriz.ndim\n",
    "\n",
    "#Una matriz es de dimensión 2."
   ]
  },
  {
   "cell_type": "code",
   "execution_count": 14,
   "metadata": {},
   "outputs": [
    {
     "name": "stdout",
     "output_type": "stream",
     "text": [
      "[[[0 1 2]\n",
      "  [4 5 6]]\n",
      "\n",
      " [[0 1 2]\n",
      "  [4 5 6]]]\n"
     ]
    },
    {
     "data": {
      "text/plain": [
       "3"
      ]
     },
     "execution_count": 14,
     "metadata": {},
     "output_type": "execute_result"
    }
   ],
   "source": [
    "tensor = np.array([[[0,1,2], [4,5,6]], [[0,1,2], [4,5,6]]]) # Le agregamos una nueva dimension a la tensor\n",
    "print(tensor)\n",
    "tensor.ndim\n",
    "\n",
    "#Un tensor es de dimensión 3 (en este caso)."
   ]
  },
  {
   "cell_type": "markdown",
   "metadata": {},
   "source": [
    "## Agregar o eliminar dimensiones"
   ]
  },
  {
   "cell_type": "code",
   "execution_count": 17,
   "metadata": {},
   "outputs": [
    {
     "name": "stdout",
     "output_type": "stream",
     "text": [
      "[[[[[[[[[[0 1 2]]]]]]]]]]\n",
      "un vector [[[[[[[[[[0 1 2]]]]]]]]]] es de dimensión 10\n"
     ]
    }
   ],
   "source": [
    "# Vcetor con 10 dimensiones\n",
    "\n",
    "vector = np.array([0,1,2], ndmin=10)\n",
    "print(vector)\n",
    "vector.ndim\n",
    "\n",
    "print(f\"un vector {vector} es de dimensión {vector.ndim}\")"
   ]
  },
  {
   "cell_type": "code",
   "execution_count": 23,
   "metadata": {},
   "outputs": [
    {
     "name": "stdout",
     "output_type": "stream",
     "text": [
      "expand tiene 2 dimensiones\n"
     ]
    }
   ],
   "source": [
    "# Expandir dimendiones\n",
    "\n",
    "expand = np.expand_dims(np.array([0,1,2,3]), axis = 0)\n",
    "\n",
    "print(f\"expand tiene {expand.ndim} dimensiones\")"
   ]
  },
  {
   "cell_type": "code",
   "execution_count": 26,
   "metadata": {},
   "outputs": [
    {
     "name": "stdout",
     "output_type": "stream",
     "text": [
      "[[[[[[[[[[0 1 2]]]]]]]]]] 10\n",
      "[0 1 2] 1\n"
     ]
    }
   ],
   "source": [
    "# Eliminar dimendiones\n",
    "\n",
    "print(vector, vector.ndim)\n",
    "\n",
    "vector2 = np.squeeze(vector)\n",
    "\n",
    "print(vector2, vector2.ndim)\n",
    "\n",
    "# Con esto comprimimos en la dimensión correcta."
   ]
  }
 ],
 "metadata": {
  "kernelspec": {
   "display_name": "Python 3",
   "language": "python",
   "name": "python3"
  },
  "language_info": {
   "codemirror_mode": {
    "name": "ipython",
    "version": 3
   },
   "file_extension": ".py",
   "mimetype": "text/x-python",
   "name": "python",
   "nbconvert_exporter": "python",
   "pygments_lexer": "ipython3",
   "version": "3.11.0"
  },
  "orig_nbformat": 4
 },
 "nbformat": 4,
 "nbformat_minor": 2
}
